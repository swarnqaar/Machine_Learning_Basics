{
  "nbformat": 4,
  "nbformat_minor": 0,
  "metadata": {
    "colab": {
      "provenance": []
    },
    "kernelspec": {
      "name": "python3",
      "display_name": "Python 3"
    },
    "language_info": {
      "name": "python"
    }
  },
  "cells": [
    {
      "cell_type": "code",
      "execution_count": null,
      "metadata": {
        "id": "jf3DEssa29Io"
      },
      "outputs": [],
      "source": [
        "import numpy as np"
      ]
    },
    {
      "cell_type": "markdown",
      "source": [
        "matrix addition\n",
        "\n",
        "@two metrices can be added only if they have the same shape"
      ],
      "metadata": {
        "id": "vjDke438AW2e"
      }
    },
    {
      "cell_type": "code",
      "source": [
        "a = np.array([[1,2,3],[4,5,6],[7,8,9]])\n",
        "b = np.array([[9,8,7],[6,5,4],[3,2,1]])\n",
        "\n",
        "print(a)"
      ],
      "metadata": {
        "id": "uQl_2fI0AVP3"
      },
      "execution_count": null,
      "outputs": []
    },
    {
      "cell_type": "code",
      "source": [
        "print(b)"
      ],
      "metadata": {
        "id": "0DWjrXD8B5lv"
      },
      "execution_count": null,
      "outputs": []
    },
    {
      "cell_type": "code",
      "source": [
        "a.shape"
      ],
      "metadata": {
        "id": "_agLglTQChXV"
      },
      "execution_count": null,
      "outputs": []
    },
    {
      "cell_type": "code",
      "source": [
        "b.shape"
      ],
      "metadata": {
        "id": "uHPe-PQQClC8"
      },
      "execution_count": null,
      "outputs": []
    },
    {
      "cell_type": "code",
      "source": [
        "sum = a+b"
      ],
      "metadata": {
        "id": "GqKeY6Z-Cm1s"
      },
      "execution_count": null,
      "outputs": []
    },
    {
      "cell_type": "code",
      "source": [
        "print(sum)"
      ],
      "metadata": {
        "id": "dVJIKETFCq6s"
      },
      "execution_count": null,
      "outputs": []
    },
    {
      "cell_type": "code",
      "source": [
        "sum= np.add(a,b)\n",
        "print(sum)"
      ],
      "metadata": {
        "id": "9zrrg1XJCve1"
      },
      "execution_count": null,
      "outputs": []
    },
    {
      "cell_type": "markdown",
      "source": [
        "creating a matrix with random values"
      ],
      "metadata": {
        "id": "OIisbTpiC7yi"
      }
    },
    {
      "cell_type": "code",
      "source": [
        "matrix_1 = np.random.randint(10, size=(3,3))\n",
        "matrix_2 = np.random.randint(10, size=(3,3))\n"
      ],
      "metadata": {
        "id": "C8zIygD7C44k"
      },
      "execution_count": null,
      "outputs": []
    },
    {
      "cell_type": "code",
      "source": [
        "print(matrix_1)"
      ],
      "metadata": {
        "id": "78BizCIhDhvs"
      },
      "execution_count": null,
      "outputs": []
    },
    {
      "cell_type": "code",
      "source": [
        "print(matrix_2)"
      ],
      "metadata": {
        "id": "5SvW_sAKDkoM"
      },
      "execution_count": null,
      "outputs": []
    },
    {
      "cell_type": "code",
      "source": [
        "sum= np.add(matrix_1, matrix_2)\n",
        "print(sum)"
      ],
      "metadata": {
        "id": "v_VhYD4uDnmU"
      },
      "execution_count": null,
      "outputs": []
    },
    {
      "cell_type": "markdown",
      "source": [
        "matrix subtraction\n",
        "\n",
        "creating two metrices with random values\n"
      ],
      "metadata": {
        "id": "z60A6WO2EIKH"
      }
    },
    {
      "cell_type": "code",
      "source": [
        "matrix_3 = np.random.randint(10, size=(3,3))\n",
        "matrix_4 = np.random.randint(10, size=(3,3))"
      ],
      "metadata": {
        "id": "ghnfenLPECQM"
      },
      "execution_count": null,
      "outputs": []
    },
    {
      "cell_type": "code",
      "source": [
        "print(matrix_3)"
      ],
      "metadata": {
        "id": "m_WHR-j9Eol8"
      },
      "execution_count": null,
      "outputs": []
    },
    {
      "cell_type": "code",
      "source": [
        "print(matrix_4)"
      ],
      "metadata": {
        "id": "3UJizuuVErs7"
      },
      "execution_count": null,
      "outputs": []
    },
    {
      "cell_type": "code",
      "source": [
        "\n",
        "diff = np.subtract(matrix_3, matrix_4)\n",
        "print(diff)"
      ],
      "metadata": {
        "id": "j-3TlZgyEufc"
      },
      "execution_count": null,
      "outputs": []
    },
    {
      "cell_type": "markdown",
      "source": [
        "multiplying a matrix by a scalar"
      ],
      "metadata": {
        "id": "2eFGi7sYFIVk"
      }
    },
    {
      "cell_type": "code",
      "source": [
        "x = np.random.randint(15, size=(4,4))\n",
        "y = 5\n",
        "print(x)"
      ],
      "metadata": {
        "id": "cFwunRyTE8sE"
      },
      "execution_count": null,
      "outputs": []
    },
    {
      "cell_type": "code",
      "source": [
        "product = np.multiply(x,y)\n",
        "print(product)\n"
      ],
      "metadata": {
        "id": "ZVT-vpQDFxQV"
      },
      "execution_count": null,
      "outputs": []
    },
    {
      "cell_type": "markdown",
      "source": [
        "multiplying two metrices"
      ],
      "metadata": {
        "id": "O2dz4XFSGCFU"
      }
    },
    {
      "cell_type": "code",
      "source": [
        "matrix_1 = np.random.randint(10, size=(3,3))\n",
        "matrix_2 = np.random.randint(10, size=(3,3))"
      ],
      "metadata": {
        "id": "kFeR7pZ0F_nE"
      },
      "execution_count": null,
      "outputs": []
    },
    {
      "cell_type": "code",
      "source": [
        "print(matrix_1)"
      ],
      "metadata": {
        "id": "kNmTikN0GbSc"
      },
      "execution_count": null,
      "outputs": []
    },
    {
      "cell_type": "code",
      "source": [
        "print(matrix_2)"
      ],
      "metadata": {
        "id": "G5qiOtlmGepM"
      },
      "execution_count": null,
      "outputs": []
    },
    {
      "cell_type": "code",
      "source": [
        "\n",
        "product = np.dot(matrix_1, matrix_2)\n",
        "print(product)"
      ],
      "metadata": {
        "id": "H77tBjukGhUb"
      },
      "execution_count": null,
      "outputs": []
    },
    {
      "cell_type": "code",
      "source": [
        "product = np.cross(matrix_1, matrix_2)\n",
        "print(product)"
      ],
      "metadata": {
        "id": "3gSNEvL7AOlL"
      },
      "execution_count": null,
      "outputs": []
    },
    {
      "cell_type": "markdown",
      "source": [
        "element multiplication of two metrices"
      ],
      "metadata": {
        "id": "EK34d1fRHTvz"
      }
    },
    {
      "cell_type": "code",
      "source": [
        "matrix_3 = np.random.randint(10, size = (3,3))\n",
        "matrix_4 = np.random.randint(10, size = (3,3))\n",
        "\n",
        "print(matrix_3)"
      ],
      "metadata": {
        "id": "aA92XtohHQYL"
      },
      "execution_count": null,
      "outputs": []
    },
    {
      "cell_type": "code",
      "source": [
        "print(matrix_4)"
      ],
      "metadata": {
        "id": "wlwVVIXpIbkL"
      },
      "execution_count": null,
      "outputs": []
    },
    {
      "cell_type": "code",
      "source": [
        "element_product = np.multiply(matrix_3, matrix_4)\n",
        "print(element_product)"
      ],
      "metadata": {
        "id": "HsMDVMeFH9ZE"
      },
      "execution_count": null,
      "outputs": []
    },
    {
      "cell_type": "code",
      "source": [],
      "metadata": {
        "id": "53yBRR6YIUN8"
      },
      "execution_count": null,
      "outputs": []
    }
  ]
}