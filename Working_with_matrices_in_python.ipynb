{
  "nbformat": 4,
  "nbformat_minor": 0,
  "metadata": {
    "colab": {
      "provenance": []
    },
    "kernelspec": {
      "name": "python3",
      "display_name": "Python 3"
    },
    "language_info": {
      "name": "python"
    }
  },
  "cells": [
    {
      "cell_type": "code",
      "execution_count": null,
      "metadata": {
        "id": "EwHF8OrHxr6l"
      },
      "outputs": [],
      "source": [
        "import numpy as np"
      ]
    },
    {
      "cell_type": "markdown",
      "source": [
        "creating martix using numpy"
      ],
      "metadata": {
        "id": "EMymdbyDx5Gz"
      }
    },
    {
      "cell_type": "code",
      "source": [
        "matrix_1 = np.array([[1,2,3],[4,5,6]])\n",
        "print(matrix_1)"
      ],
      "metadata": {
        "id": "9LmPlPZEx3sG"
      },
      "execution_count": null,
      "outputs": []
    },
    {
      "cell_type": "markdown",
      "source": [
        "creating a matix using random values"
      ],
      "metadata": {
        "id": "NGZAR1cbzS-E"
      }
    },
    {
      "cell_type": "code",
      "source": [
        "random_matrix = np.random.rand(3,3)\n",
        "print(random_matrix)"
      ],
      "metadata": {
        "id": "GVN7zxygyd6M"
      },
      "execution_count": null,
      "outputs": []
    },
    {
      "cell_type": "markdown",
      "source": [
        "creating a matrx using random integer"
      ],
      "metadata": {
        "id": "7SAgCJ1gzzYz"
      }
    },
    {
      "cell_type": "code",
      "source": [
        "random_integer_matrix = np.random.randint(10, size=(4,4))\n",
        "print(random_integer_matrix)"
      ],
      "metadata": {
        "id": "_9T4hxtBzjcc"
      },
      "execution_count": null,
      "outputs": []
    },
    {
      "cell_type": "markdown",
      "source": [
        "creating a matrix with all values as 1"
      ],
      "metadata": {
        "id": "FSS0yOwe0TaT"
      }
    },
    {
      "cell_type": "code",
      "source": [
        "matrix_3 = np.ones((3,3))\n",
        "print(matrix_3)"
      ],
      "metadata": {
        "id": "7ZqH1GUY0LDM"
      },
      "execution_count": null,
      "outputs": []
    },
    {
      "cell_type": "markdown",
      "source": [
        "null matrix or zero matrix"
      ],
      "metadata": {
        "id": "-krcyisB0xor"
      }
    },
    {
      "cell_type": "code",
      "source": [
        "null_matrix = np.zeros((4,4))\n",
        "print(null_matrix)"
      ],
      "metadata": {
        "id": "RiZA2qeZ0v4s"
      },
      "execution_count": null,
      "outputs": []
    },
    {
      "cell_type": "markdown",
      "source": [
        "identity matrix"
      ],
      "metadata": {
        "id": "7jHsXk981HoL"
      }
    },
    {
      "cell_type": "code",
      "source": [
        "identity_matrix = np.eye(3,3)\n",
        "print(identity_matrix)"
      ],
      "metadata": {
        "id": "Oankq8Eb1BeU"
      },
      "execution_count": null,
      "outputs": []
    },
    {
      "cell_type": "markdown",
      "source": [
        "Transpose of a matrix"
      ],
      "metadata": {
        "id": "RRFrwvWP1lCi"
      }
    },
    {
      "cell_type": "code",
      "source": [
        "# matrix with random integer value\n",
        "matrix_4 = np.random.randint(10, size=(4,4))\n",
        "print(matrix_4)\n",
        "\n",
        "transpose_matrix =np.transpose(matrix_4)"
      ],
      "metadata": {
        "id": "hgVeBFiG1YTD"
      },
      "execution_count": null,
      "outputs": []
    },
    {
      "cell_type": "code",
      "source": [
        "print(transpose_matrix)"
      ],
      "metadata": {
        "id": "SAkqSUwk2QCM"
      },
      "execution_count": null,
      "outputs": []
    },
    {
      "cell_type": "code",
      "source": [],
      "metadata": {
        "id": "QpOrp4KH20P7"
      },
      "execution_count": null,
      "outputs": []
    }
  ]
}