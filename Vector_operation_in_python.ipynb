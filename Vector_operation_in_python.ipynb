{
  "nbformat": 4,
  "nbformat_minor": 0,
  "metadata": {
    "colab": {
      "provenance": []
    },
    "kernelspec": {
      "name": "python3",
      "display_name": "Python 3"
    },
    "language_info": {
      "name": "python"
    }
  },
  "cells": [
    {
      "cell_type": "code",
      "execution_count": null,
      "metadata": {
        "id": "iYQiXzjj0Rx8"
      },
      "outputs": [],
      "source": [
        "import numpy as np\n",
        "import matplotlib.pyplot as plt\n",
        "import seaborn as sns\n"
      ]
    },
    {
      "cell_type": "code",
      "source": [
        "sns.set()"
      ],
      "metadata": {
        "id": "Ubt4meSG0sY0"
      },
      "execution_count": null,
      "outputs": []
    },
    {
      "cell_type": "markdown",
      "source": [
        "Plotting a Vector\n"
      ],
      "metadata": {
        "id": "cHGPBNEa0zzj"
      }
    },
    {
      "cell_type": "code",
      "source": [
        "plt.quiver(0, 0 ,4 ,5)\n",
        "plt.show"
      ],
      "metadata": {
        "id": "i24xDAbs0vuj"
      },
      "execution_count": null,
      "outputs": []
    },
    {
      "cell_type": "code",
      "source": [
        "plt.quiver(0,0,4,5,  scale_units ='xy', angles = 'xy', scale =1, color='b')\n",
        "plt.quiver(0,0,8,6,  scale_units ='xy', angles = 'xy', scale =1, color='g')\n",
        "plt.xlim(-10,10)\n",
        "plt.ylim(-10,10)\n",
        "plt.show\n"
      ],
      "metadata": {
        "id": "sEqJakHz1EK7"
      },
      "execution_count": null,
      "outputs": []
    },
    {
      "cell_type": "markdown",
      "source": [
        "addition of two vwctor"
      ],
      "metadata": {
        "id": "fb-Y2DTj3vFc"
      }
    },
    {
      "cell_type": "code",
      "source": [
        "vector_1 = np.asarray([0,0,2,3])\n",
        "vector_2 = np.asarray([0,0,3,-2])\n",
        "sum = vector_1 + vector_2\n",
        "print(sum)"
      ],
      "metadata": {
        "id": "CRnaAlju3z2S",
        "collapsed": true
      },
      "execution_count": null,
      "outputs": []
    },
    {
      "cell_type": "code",
      "source": [
        "plt.quiver(0,0,4,5,  scale_units ='xy', angles = 'xy', scale =1, color= 'b')\n",
        "plt.quiver(0,0,3,-2,  scale_units ='xy', angles = 'xy', scale =1, color='g')\n",
        "plt.quiver(0,0,5,1,  scale_units ='xy', angles = 'xy', scale =1, color= 'r')\n",
        "plt.xlim(-10,10)\n",
        "plt.ylim(-10,10)\n",
        "plt.show"
      ],
      "metadata": {
        "id": "e2De0n1f2E2y"
      },
      "execution_count": null,
      "outputs": []
    },
    {
      "cell_type": "markdown",
      "source": [
        "subtraction of two vector"
      ],
      "metadata": {
        "id": "zw7zGHoQ4x4b"
      }
    },
    {
      "cell_type": "code",
      "source": [
        "vector_3 = np.asarray([0,0,2,3])\n",
        "vector_4 = np.asarray([0,0,3,-2])\n",
        "difference = vector_3 - vector_4\n",
        "print(difference)"
      ],
      "metadata": {
        "id": "hY3Uwwzu4s0q"
      },
      "execution_count": null,
      "outputs": []
    },
    {
      "cell_type": "code",
      "source": [
        "plt.quiver(0,0,4,5,  scale_units ='xy', angles = 'xy', scale =1, color= 'b')\n",
        "plt.quiver(0,0,3,-2,  scale_units ='xy', angles = 'xy', scale =1, color='g')\n",
        "plt.quiver(0,0,-1,5,  scale_units ='xy', angles = 'xy', scale =1, color= 'r')\n",
        "plt.xlim(-10,10)\n",
        "plt.ylim(-10,10)\n",
        "plt.show"
      ],
      "metadata": {
        "id": "q4RyhR29ErFD"
      },
      "execution_count": null,
      "outputs": []
    },
    {
      "cell_type": "markdown",
      "source": [
        "multiplying a vector by scalar"
      ],
      "metadata": {
        "id": "9_XDrv7LFaRY"
      }
    },
    {
      "cell_type": "code",
      "source": [
        "vector_1 = np.asarray([0,0,2,3])\n",
        "vector_2 = 5*vector_1\n",
        "print(vector_2)"
      ],
      "metadata": {
        "id": "tELE1VyeEs29"
      },
      "execution_count": null,
      "outputs": []
    },
    {
      "cell_type": "code",
      "source": [
        "plt.quiver(0,0,2,3, scale_units=\"xy\", angles=\"xy\", scale=1, color=\"b\")\n",
        "plt.quiver(0,0,10,15, scale_units=\"xy\", angles=\"xy\", scale=1, color=\"g\")\n",
        "plt.xlim(-10, 10)\n",
        "plt.ylim(-10,10)\n",
        "plt.show"
      ],
      "metadata": {
        "id": "ZZewN88jGBwr"
      },
      "execution_count": null,
      "outputs": []
    },
    {
      "cell_type": "markdown",
      "source": [
        "Multiplicaton of two vectors\n",
        "1. Dot product : a.b =|a||b|cosx\n",
        "1. cross product :a*b =|a||b|sinx\n"
      ],
      "metadata": {
        "id": "UwvXLGtdreUj"
      }
    },
    {
      "cell_type": "markdown",
      "source": [
        "Dot product"
      ],
      "metadata": {
        "id": "cfoDsQ5GsJcs"
      }
    },
    {
      "cell_type": "code",
      "source": [
        "a = np.array([2,3])\n",
        "b = np.array([3,4])\n",
        "dot_product = np.dot(a,b)\n",
        "print(dot_product)"
      ],
      "metadata": {
        "id": "PdBQHTadJUaK"
      },
      "execution_count": null,
      "outputs": []
    },
    {
      "cell_type": "markdown",
      "source": [
        "Cross product\n"
      ],
      "metadata": {
        "id": "fTdLrKNItTAj"
      }
    },
    {
      "cell_type": "code",
      "source": [
        "a = np.array([4,5,6])\n",
        "b = np.array ([7,8,9])\n",
        "cross_product = np.cross(a,b)\n",
        "print(cross_product)"
      ],
      "metadata": {
        "id": "qNpFxa8isiMW"
      },
      "execution_count": null,
      "outputs": []
    },
    {
      "cell_type": "markdown",
      "source": [
        "projection of 'a' vector on 'v' vector\n",
        "\n",
        "projection v^a = a.v/||v||^2 . v"
      ],
      "metadata": {
        "id": "wgRPljFpuKjM"
      }
    },
    {
      "cell_type": "code",
      "source": [
        "a= np.array ([3,4])\n",
        "v= np.array ([5,6])\n",
        "\n",
        "#magnitude of vector 'v'\n",
        "magnitude_of_v = np.sqrt(np.sum(v**2))\n",
        "\n",
        "projection_a_on_V = (np.dot(a,v))/magnitude_of_v**2 * v\n",
        "\n",
        "print(projection_a_on_V)\n"
      ],
      "metadata": {
        "id": "rqROOSWZtqpU"
      },
      "execution_count": null,
      "outputs": []
    },
    {
      "cell_type": "code",
      "source": [],
      "metadata": {
        "id": "CrylBl59wGUU"
      },
      "execution_count": null,
      "outputs": []
    }
  ]
}