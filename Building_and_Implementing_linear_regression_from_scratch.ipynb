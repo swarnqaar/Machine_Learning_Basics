{
  "nbformat": 4,
  "nbformat_minor": 0,
  "metadata": {
    "colab": {
      "provenance": []
    },
    "kernelspec": {
      "name": "python3",
      "display_name": "Python 3"
    },
    "language_info": {
      "name": "python"
    }
  },
  "cells": [
    {
      "cell_type": "markdown",
      "source": [
        "=> Linear Regression\n",
        "\n",
        "Y=wX+b\n",
        "\n",
        "Y-> Dependent variable\n",
        "\n",
        "X-> Indepedent variable\n",
        "\n",
        "b-> bias\n",
        "\n",
        "w-> weight\n"
      ],
      "metadata": {
        "id": "M4wIr2Zf0TRN"
      }
    },
    {
      "cell_type": "markdown",
      "source": [
        "=> Gradient Descent\n",
        "\n",
        "w = w-a*dw\n",
        "\n",
        "w = w-a*db\n",
        "\n"
      ],
      "metadata": {
        "id": "SAoHJtX506Uz"
      }
    },
    {
      "cell_type": "code",
      "source": [
        "#importing the numpy library\n",
        "\n",
        "import numpy as np\n",
        "import pandas as pd\n",
        "import matplotlib.pyplot as plt\n",
        "import seaborn as sns\n"
      ],
      "metadata": {
        "id": "ycV9uYgZuD8I"
      },
      "execution_count": null,
      "outputs": []
    },
    {
      "cell_type": "code",
      "source": [
        "\n",
        "class Linear_Regression():\n",
        "    # initiating the parameter (learning_rate and no of of iterations)\n",
        "    def __init__(self, learning_rate, no_of_iterations):\n",
        "\n",
        "        self.learning_rate = learning_rate\n",
        "        self.no_of_iterations = no_of_iterations\n",
        "\n",
        "    # number of training examples and number of features\n",
        "    def fit(self, x, y):\n",
        "        self.m, self.n = x.shape  # no. of row and columns\n",
        "\n",
        "        # initiating the weight and bias\n",
        "        self.w = np.zeros(self.n)\n",
        "        self.b = 0\n",
        "\n",
        "        self.x = x\n",
        "        self.y = y\n",
        "\n",
        "        # implementing the gradient descent\n",
        "        for i in range(self.no_of_iterations):\n",
        "            self.update_weights()\n",
        "\n",
        "    def update_weights(self):\n",
        "        y_prediction = self.predict(self.x)\n",
        "\n",
        "        # calculate gradients\n",
        "        dw = -(2 * (self.x.T).dot(self.y - y_prediction)) / self.m  # Define dw as an instance variable using self.dw\n",
        "        db = -2 * np.sum(self.y - y_prediction) / self.m  # Define db as an instance variable using self.db\n",
        "\n",
        "        # updating the weights and bias using gradient descent\n",
        "        self.w = self.w - self.learning_rate * dw\n",
        "        self.b = self.b - self.learning_rate * db\n",
        "\n",
        "    def predict(self, x):\n",
        "        # Predicting the target variable\n",
        "        return x.dot(self.w) + self.b"
      ],
      "metadata": {
        "id": "Yd7QJDbHdjLq"
      },
      "execution_count": null,
      "outputs": []
    },
    {
      "cell_type": "markdown",
      "source": [
        "Implementing linear regression"
      ],
      "metadata": {
        "id": "3gRloFc-kRoY"
      }
    },
    {
      "cell_type": "code",
      "source": [
        "# importing the dependencies\n",
        "\n",
        "import pandas as pd\n",
        "from sklearn.model_selection import train_test_split\n",
        "import matplotlib.pyplot as plt"
      ],
      "metadata": {
        "id": "bz4blgR5ej5Z"
      },
      "execution_count": null,
      "outputs": []
    },
    {
      "cell_type": "markdown",
      "source": [
        "Data preprocessing"
      ],
      "metadata": {
        "id": "Qs11ppxM-Xsh"
      }
    },
    {
      "cell_type": "code",
      "source": [
        "# loading the data set from csv to pandas dataframe\n",
        "salary_dataset = pd.read_csv(\"/content/salary_data.csv\")\n",
        "salary_dataset.head()\n",
        "salary_dataset.tail()\n",
        "salary_dataset.shape"
      ],
      "metadata": {
        "id": "6gPtUedalFdK"
      },
      "execution_count": null,
      "outputs": []
    },
    {
      "cell_type": "code",
      "source": [
        "salary_dataset.isnull().sum()"
      ],
      "metadata": {
        "id": "f3ufK3lZ-orQ"
      },
      "execution_count": null,
      "outputs": []
    },
    {
      "cell_type": "code",
      "source": [
        "salary_dataset.describe()"
      ],
      "metadata": {
        "id": "_Knw4Jqv_nCP"
      },
      "execution_count": null,
      "outputs": []
    },
    {
      "cell_type": "markdown",
      "source": [
        "splitting the features and target"
      ],
      "metadata": {
        "id": "gNBowGJl_vwO"
      }
    },
    {
      "cell_type": "code",
      "source": [
        "x = salary_dataset.iloc[:, :-1].values\n",
        "y = salary_dataset.iloc[:,1].values"
      ],
      "metadata": {
        "id": "6yGezXxS_ve-"
      },
      "execution_count": null,
      "outputs": []
    },
    {
      "cell_type": "code",
      "source": [
        "print(x)"
      ],
      "metadata": {
        "id": "BdvFC92p_q2u"
      },
      "execution_count": null,
      "outputs": []
    },
    {
      "cell_type": "code",
      "source": [
        "print(y)"
      ],
      "metadata": {
        "id": "FDm1cID9Bq-f"
      },
      "execution_count": null,
      "outputs": []
    },
    {
      "cell_type": "markdown",
      "source": [
        "splitting the dataset into training data and test data\n"
      ],
      "metadata": {
        "id": "5gffpTQCCDIO"
      }
    },
    {
      "cell_type": "code",
      "source": [
        "x_train, x_test, y_train, y_test = train_test_split(x,y, test_size =0.33, random_state = 2)"
      ],
      "metadata": {
        "id": "JV3HrKwVCClG"
      },
      "execution_count": null,
      "outputs": []
    },
    {
      "cell_type": "code",
      "source": [
        "print(x.shape , x_train.shape, x_test.shape)"
      ],
      "metadata": {
        "id": "Pr_04P8kBxTn"
      },
      "execution_count": null,
      "outputs": []
    },
    {
      "cell_type": "markdown",
      "source": [
        "Training the Machine learning model"
      ],
      "metadata": {
        "id": "86WMDsqIABkp"
      }
    },
    {
      "cell_type": "code",
      "source": [
        "model = Linear_Regression(learning_rate = 0.02, no_of_iterations =1000)\n",
        "\n",
        "model.fit(x_train, y_train)"
      ],
      "metadata": {
        "id": "RWSclL3r_7aI"
      },
      "execution_count": null,
      "outputs": []
    },
    {
      "cell_type": "code",
      "source": [
        "#preparing the parametere values(weights & bias)\n",
        "\n",
        "print('weights=' , model.w[0])\n",
        "\n",
        "print('bias=' , model.b)"
      ],
      "metadata": {
        "id": "GLkkbUYqA276"
      },
      "execution_count": null,
      "outputs": []
    },
    {
      "cell_type": "markdown",
      "source": [
        "Predict the salary value for test data\n"
      ],
      "metadata": {
        "id": "sRcIG-imCaAG"
      }
    },
    {
      "cell_type": "code",
      "source": [
        "test_data_prediction = model.predict(x_test)\n",
        "print(test_data_prediction)"
      ],
      "metadata": {
        "id": "yjPLiGMdCWcH"
      },
      "execution_count": null,
      "outputs": []
    },
    {
      "cell_type": "markdown",
      "source": [
        "visualizing the predicted values and actual value"
      ],
      "metadata": {
        "id": "rwPW3ck7Cvwf"
      }
    },
    {
      "cell_type": "code",
      "source": [
        "plt.scatter(x_test, y_test, color = 'red')\n",
        "plt.plot(x_test, test_data_prediction, color = 'blue')\n",
        "plt.xlabel('year of ecperience')\n",
        "plt.ylabel(\"salary\")\n",
        "plt.title('salary vs Experience')\n",
        "plt.show()"
      ],
      "metadata": {
        "id": "A3mFhkTyCtP_"
      },
      "execution_count": null,
      "outputs": []
    },
    {
      "cell_type": "code",
      "source": [],
      "metadata": {
        "id": "uYCPQPygDl-2"
      },
      "execution_count": null,
      "outputs": []
    }
  ]
}